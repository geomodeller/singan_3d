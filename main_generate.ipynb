{
 "cells": [
  {
   "cell_type": "code",
   "execution_count": null,
   "id": "99cf2f2a",
   "metadata": {},
   "outputs": [],
   "source": [
    "import torch\n",
    "import torch.nn.functional as F\n",
    "import numpy as np\n",
    "import os\n",
    "import matplotlib.pyplot as plt\n",
    "from main import Generator3D, generate_noise, upsample_3d\n",
    "\n",
    "output_dir = \"Oxy_3d_demo\"\n",
    "device = torch.device(f\"cuda:0\")\n",
    "model_path = os.path.join(output_dir, 'trained_model_3d.pth')\n",
    "\n",
    "saved_data = torch.load(model_path, map_location=device)\n",
    "trained_generators_state_dicts = saved_data['generators_state_dicts']\n",
    "fixed_noise_maps = saved_data['fixed_noise_maps']\n",
    "pyramid_shapes = saved_data['pyramid_shapes']\n",
    "train_opt_dict = saved_data['opt']\n",
    "pyramid = saved_data['pyramid']"
   ]
  },
  {
   "cell_type": "code",
   "execution_count": null,
   "id": "a3795362",
   "metadata": {},
   "outputs": [],
   "source": [
    "saved_data.keys()"
   ]
  },
  {
   "cell_type": "code",
   "execution_count": null,
   "id": "98774f05",
   "metadata": {},
   "outputs": [],
   "source": [
    "type(saved_data['generators_state_dicts'][0])"
   ]
  },
  {
   "cell_type": "code",
   "execution_count": null,
   "id": "12174d8f",
   "metadata": {},
   "outputs": [],
   "source": [
    "saved_data['pyramid'][0].shape"
   ]
  },
  {
   "cell_type": "code",
   "execution_count": null,
   "id": "cc73eb03",
   "metadata": {},
   "outputs": [],
   "source": [
    "saved_data['pyramid_shapes'][0]"
   ]
  },
  {
   "cell_type": "code",
   "execution_count": null,
   "id": "d7abd409",
   "metadata": {},
   "outputs": [],
   "source": [
    "saved_data['fixed_noise_maps'][4].shape"
   ]
  },
  {
   "cell_type": "code",
   "execution_count": null,
   "id": "9938e96e",
   "metadata": {},
   "outputs": [],
   "source": [
    "training_data = pyramid[4].detach().cpu().numpy()\n",
    "training_data.shape\n",
    "plt.imshow(training_data.squeeze().mean(0))\n",
    "plt.colorbar()"
   ]
  },
  {
   "cell_type": "code",
   "execution_count": null,
   "id": "fe9d1a53",
   "metadata": {},
   "outputs": [],
   "source": [
    "# Create dummy pyramid for shape info if needed, or use saved shapes\n",
    "# This part might need refinement depending on how gen_size interacts\n",
    "class DummyOpt: pass\n",
    "train_opt = DummyOpt()\n",
    "for k, v in train_opt_dict.items(): \n",
    "    setattr(train_opt, k, v)\n",
    "train_opt.nc_im = 1 # Assume single channel if not saved explicitly\n"
   ]
  },
  {
   "cell_type": "code",
   "execution_count": null,
   "id": "dc3b74ad",
   "metadata": {},
   "outputs": [],
   "source": [
    "def generate_3d_sample(trained_generators_state_dicts, \n",
    "                       pyramid, \n",
    "                       opt, device, \n",
    "                       gen_start_scale=0, \n",
    "                       custom_noise_shape=None):\n",
    "    num_scales = len(trained_generators_state_dicts)\n",
    "    generators = []\n",
    "    # Load generators from state dicts\n",
    "    for i in range(num_scales):\n",
    "        netG = Generator3D(opt).to(device)\n",
    "        # Load state dict corresponding to scale i (0=finest, N=coarsest)\n",
    "        # Note: trained_generators was returned finest-to-coarsest\n",
    "        netG.load_state_dict(trained_generators_state_dicts[i])\n",
    "        netG.eval() # Set to evaluation mode\n",
    "        generators.append(netG)\n",
    "\n",
    "    # Determine starting scale index (N = num_scales - 1)\n",
    "    start_scale_idx_actual = num_scales - 1 - gen_start_scale\n",
    "\n",
    "    # Generate initial noise at the starting scale\n",
    "    if custom_noise_shape:\n",
    "        # Use custom shape (C, D, H, W)\n",
    "        noise_shape = (opt.nc_im,) + tuple(custom_noise_shape)\n",
    "    else:\n",
    "        # Use shape from the corresponding pyramid level\n",
    "        noise_shape = pyramid[::-1][gen_start_scale].shape[1:] # Get C, D, H, W\n",
    "\n",
    "    current_noise = generate_noise(noise_shape, device)\n",
    "    current_vol = torch.zeros((1,) + noise_shape, device=device) # Initial previous output is zero\n",
    "    current_vol = pyramid[::-1][gen_start_scale]\n",
    "    \n",
    "    scale_factor_r = opt.scale_factor\n",
    "\n",
    "    # Generate through the pyramid from start_scale down to 0 (finest)\n",
    "    with torch.no_grad():\n",
    "        for scale_idx in range(start_scale_idx_actual, -1, -1): # Iterate N, N-1,..., start_scale,..., 0\n",
    "            # Get the generator for this scale (index maps directly: 0=finest, N=coarsest)\n",
    "            # Need to map scale_idx (N..0) to list index (0..N)\n",
    "            generator_list_idx = num_scales - 1 - scale_idx\n",
    "            netG = generators[generator_list_idx]\n",
    "\n",
    "            # Upsample previous volume\n",
    "            prev_vol_upsampled = upsample_3d(current_vol, \n",
    "                                             scale_factor=scale_factor_r)\n",
    "\n",
    "            # Determine target size for this scale\n",
    "            if custom_noise_shape and scale_idx == start_scale_idx_actual:\n",
    "                 target_size = noise_shape[-3:]\n",
    "            elif scale_idx < num_scales -1 : # Not the coarsest scale being generated\n",
    "                 # Infer target size by scaling up from the next coarser scale's pyramid shape\n",
    "                 coarser_pyramid_idx = num_scales - 1 - (scale_idx + 1)\n",
    "                 coarser_dims = np.array(pyramid[coarser_pyramid_idx].shape[-3:])\n",
    "                 target_dims_float = coarser_dims * scale_factor_r\n",
    "                 target_size = tuple(np.round(target_dims_float).astype(int))\n",
    "                 # Ensure minimum size 1\n",
    "                 target_size = tuple(max(1, d) for d in target_size)\n",
    "            else: # Coarsest scale being generated (scale_idx == num_scales - 1)\n",
    "                 target_size = noise_shape[-3:] # Use noise shape directly\n",
    "\n",
    "\n",
    "            # Resize upsampled volume and noise to target size\n",
    "            prev_vol_upsampled = F.interpolate(prev_vol_upsampled, size=target_size, mode='trilinear', align_corners=False)\n",
    "            # pyramid_upsampled = F.interpolate(pyramid[coarser_pyramid_idx+1], size=target_size, mode='trilinear', align_corners=False) \n",
    "            # prev_vol_upsampled = (prev_vol_upsampled + pyramid_upsampled)/2\n",
    "            noise_this_scale = F.interpolate(current_noise, size=target_size, mode='trilinear', align_corners=False)\n",
    "            noise_this_scale = generate_noise(noise_this_scale.shape[1:], device)\n",
    "            \n",
    "            # Generate volume for this scale\n",
    "            current_vol = netG(noise_this_scale, prev_vol_upsampled)\n",
    "\n",
    "            # Prepare noise for the next finer scale (if any)\n",
    "            if scale_idx > 0:\n",
    "                # print(f\"Generating noise for scale {scale_idx-1}\")\n",
    "                # print(f'target size: {target_size}')\n",
    "                target_size = (1, *target_size)\n",
    "                current_noise = generate_noise(target_size, device) # Generate new noise based on current size\n",
    "\n",
    "    return current_vol"
   ]
  },
  {
   "cell_type": "code",
   "execution_count": null,
   "id": "d67380a5",
   "metadata": {},
   "outputs": [],
   "source": [
    "original = np.load('3d_data_channel_(76, 88, 114).npy')\n",
    "original.shape"
   ]
  },
  {
   "cell_type": "code",
   "execution_count": null,
   "id": "3b204ff4",
   "metadata": {},
   "outputs": [],
   "source": [
    "original.max()"
   ]
  },
  {
   "cell_type": "code",
   "execution_count": null,
   "id": "48da6df2",
   "metadata": {},
   "outputs": [],
   "source": [
    "REAL_1 = [] \n",
    "for i in range(10):\n",
    "    dummy = generate_3d_sample(trained_generators_state_dicts,\n",
    "                                pyramid, # Pass dummy pyramid for shape reference\n",
    "                                train_opt, # Use options from training\n",
    "                                device,\n",
    "                                gen_start_scale=0).detach().cpu().numpy()\n",
    "    dummy = (dummy - dummy.min())/(dummy.max() - dummy.min()) * (original.max()-original.min()) + original.min()\n",
    "    REAL_1.append(dummy)\n",
    "REAL_1 = np.array(REAL_1).squeeze()"
   ]
  },
  {
   "cell_type": "code",
   "execution_count": null,
   "id": "d0e28291",
   "metadata": {},
   "outputs": [],
   "source": [
    "training_data = pyramid[-1].detach().cpu().numpy()\n",
    "training_data.shape\n",
    "plt.imshow(training_data.squeeze().mean(0))\n",
    "plt.colorbar()"
   ]
  },
  {
   "cell_type": "code",
   "execution_count": null,
   "id": "4fdd67ba",
   "metadata": {},
   "outputs": [],
   "source": [
    "plt.imshow(original.mean(0))\n",
    "plt.colorbar()"
   ]
  },
  {
   "cell_type": "code",
   "execution_count": null,
   "id": "7bceb15b",
   "metadata": {},
   "outputs": [],
   "source": [
    "plt.imshow(REAL_1[1].mean(0) - REAL_1[0].mean(0), cmap = plt.cm.seismic)\n",
    "plt.colorbar()"
   ]
  },
  {
   "cell_type": "code",
   "execution_count": null,
   "id": "2f66b05b",
   "metadata": {},
   "outputs": [],
   "source": [
    "img_height*len(REAL_1)//num_of_image_in_a_row"
   ]
  },
  {
   "cell_type": "code",
   "execution_count": null,
   "id": "24db6135",
   "metadata": {},
   "outputs": [],
   "source": [
    "img_width = 4\n",
    "img_height = 4\n",
    "num_of_image_in_a_row = 5\n",
    "len_images = 100\n",
    "for i in range(len_images):\n",
    "    if i == 0:\n",
    "        plt.figure(figsize = (img_width*num_of_image_in_a_row,img_height*len_images//num_of_image_in_a_row))\n",
    "    plt.subplot(len_images//num_of_image_in_a_row, num_of_image_in_a_row,i+1)\n",
    "    plt.imshow(REAL_1[i].mean(0))\n",
    "    plt.colorbar()"
   ]
  },
  {
   "cell_type": "code",
   "execution_count": null,
   "id": "c757e4ec",
   "metadata": {},
   "outputs": [],
   "source": [
    "img_width = 4\n",
    "img_height = 4\n",
    "num_of_image_in_a_row = 5\n",
    "\n",
    "for i in range(len(REAL_1)):\n",
    "    if i == 0:\n",
    "        plt.figure(figsize = (img_width*len(REAL_1),img_height*len(REAL_1)//5))\n",
    "    plt.subplot(len(REAL_1)//num_of_image_in_a_row, num_of_image_in_a_row,i+1)\n",
    "    plt.imshow(REAL_1[i].mean(0)[:,1:]- original.mean(0), cmap = plt.cm.seismic)\n",
    "    plt.colorbar()"
   ]
  },
  {
   "cell_type": "code",
   "execution_count": null,
   "id": "954df299",
   "metadata": {},
   "outputs": [],
   "source": [
    "plt.imshow(REAL_1[1].mean(0)-)"
   ]
  },
  {
   "cell_type": "code",
   "execution_count": null,
   "id": "9c8e06d2",
   "metadata": {},
   "outputs": [],
   "source": [
    "plt.imshow(REAL_1[0].mean(0))"
   ]
  },
  {
   "cell_type": "code",
   "execution_count": null,
   "id": "56dab9eb",
   "metadata": {},
   "outputs": [],
   "source": [
    "REAL_1 = [] \n",
    "for i in range(500):\n",
    "    dummy = generate_3d_sample(trained_generators_state_dicts,\n",
    "                                pyramid, # Pass dummy pyramid for shape reference\n",
    "                                train_opt, # Use options from training\n",
    "                                device,\n",
    "                                gen_start_scale=0).detach().cpu().numpy()\n",
    "    dummy = (dummy - dummy.min())/(dummy.max() - dummy.min()) * (original.max()-original.min()) + original.min()\n",
    "    REAL_1.append(dummy)\n",
    "REAL_1 = np.array(REAL_1).squeeze()"
   ]
  },
  {
   "cell_type": "code",
   "execution_count": null,
   "id": "5574cfe2",
   "metadata": {},
   "outputs": [],
   "source": [
    "plt.figure(figsize=(15,5)   )\n",
    "plt.subplot(1,2,1)\n",
    "plt.title(\"Mean of 1,000 realizations\")\n",
    "plt.imshow(REAL_1.mean(1).mean(0), cmap='viridis')\n",
    "plt.colorbar()\n",
    "plt.subplot(1,2,2)\n",
    "plt.title(\"Standard Deviation\")\n",
    "plt.imshow(REAL_1.mean(1).std(0), cmap='jet')\n",
    "plt.colorbar()"
   ]
  }
 ],
 "metadata": {
  "kernelspec": {
   "display_name": "base",
   "language": "python",
   "name": "python3"
  },
  "language_info": {
   "codemirror_mode": {
    "name": "ipython",
    "version": 3
   },
   "file_extension": ".py",
   "mimetype": "text/x-python",
   "name": "python",
   "nbconvert_exporter": "python",
   "pygments_lexer": "ipython3",
   "version": "3.12.7"
  }
 },
 "nbformat": 4,
 "nbformat_minor": 5
}
